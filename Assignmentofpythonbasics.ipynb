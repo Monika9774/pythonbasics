{
  "nbformat": 4,
  "nbformat_minor": 0,
  "metadata": {
    "colab": {
      "provenance": []
    },
    "kernelspec": {
      "name": "python3",
      "display_name": "Python 3"
    },
    "language_info": {
      "name": "python"
    }
  },
  "cells": [
    {
      "cell_type": "markdown",
      "source": [
        "1. **What is python , and why is it popular?**\n",
        "\n",
        "Ans:  Python is a high-level , interpreted programming\n",
        "      language known for its simplicity and readability.\n",
        "      Python is created by 'Guido van rossum' in 1991.\n",
        "      Pyhton is popular because its is ease of learning ,\n",
        "      versatility , large community and libraries , and cross platform compatibility etc.\n",
        "\n",
        "      \n",
        "\n",
        "---\n",
        "\n",
        "\n",
        "2. **What is an interpreter in python?**\n",
        "\n",
        "Ans: An interpreter in python ia a program that executes python code directly,\n",
        "     translating it into machine code that the computer can understand and execute. python interpreter processes the code line by line at runtime.\n",
        "\n",
        "\n",
        "---\n",
        "\n",
        "\n",
        "\n",
        "\n",
        "3. **What are pre-define keyword in python?**\n",
        "\n",
        "Ans: Pre-define keyword in python (also known as reserved words ) are special words that have specific meaning and functions in the language. These keywords cannot be used as identifiers (such as variable names , functions names etc.)\n",
        "because they are reserved for the language's syntax and structure.\n",
        "\n",
        "   **The list of pre-define keywords**\n",
        "  \n",
        "\n",
        "*   False         \n",
        "*   None\n",
        "*   True\n",
        "*   and\n",
        "*   as\n",
        "*   assert\n",
        "*   async\n",
        "*   await\n",
        "*   break\n",
        "*   class\n",
        "*   continue\n",
        "*   def\n",
        "*   del\n",
        "*   elif\n",
        "*   else\n",
        "*   except\n",
        "*   finally\n",
        "*   for\n",
        "*   from\n",
        "*   global\n",
        "*   if\n",
        "*   import\n",
        "*   in\n",
        "*   is\n",
        "*   lambda\n",
        "*   nonlocal\n",
        "*   not\n",
        "*   or\n",
        "*   pass\n",
        "*   raise\n",
        "*   return\n",
        "*   try\n",
        "*   while\n",
        "*   with\n",
        "*   yield\n",
        "*   match\n",
        "*   case\n",
        "\n",
        "\n",
        "---\n",
        "\n",
        "4. **Can keywords be used as variable names?**\n",
        "\n",
        "Ans: No, keywords cannot be used as variable names in python .\n",
        "     keywords are predefined and have specific meanings in the language .\n",
        "     If you try to use them as variable names, python will give  you syntax error.\n",
        "\n",
        "---\n",
        "\n",
        "5. **What is mutability in python?**\n",
        "\n",
        "Ans: Mutability in python refers to the ability of an object to be changed after it been created. on the other hand , if an object cannot be changed once created , it considered immutability .\n",
        "\n",
        "\n",
        "---\n",
        "\n",
        "6. **Why is lists mutable , but tuples are immutable?**\n",
        "\n",
        "Ans: Lists are mutable , while tuples are immutable due to their design and functionality difference.\n",
        "\n",
        "* lists : Lists are designed to be dynamically modified . This means you can add , remove, or change elements in a list without creating a new list. list are useful when you need to frequently modify data.\n",
        "\n",
        "\n",
        "* Tuples : Tuples are designed to be fixed and unchangeable. Once you create a tuple , you cannot change its elements . Tuple are typically used when you need a fixed collection of data , such as return values from functions or grouping multiple values together.   \n",
        "\n",
        "\n",
        "\n",
        "---\n",
        "\n",
        "\n",
        "7. **What is the difference between \"==\" and \"is\" operators in python ?**\n",
        "\n",
        "Ans:  The difference between '==' and 'is' operator in python is:\n",
        "    \n",
        "   * '== ' operator : This operator compares the values of two objects. If the values are the same , it returns 'True' . This means it checks whether the contents of the object are equal.\n",
        "\n",
        "   * 'is' operator : This operator compares the identities of two objects . it checks whether both variables point to the same object in memory . if they do, it returns 'True'.\n",
        "\n",
        "\n",
        "---\n",
        "\n",
        "\n",
        "8. **What is logical operators in python ?**\n",
        "\n",
        "Ans: Logical operators are used to combine conditional statements and evaluate their truth values . There are three main logical operators:\n",
        "\n",
        "  * and operator :\n",
        "       * This operators returns 'true' if both conditions is true . if either condition is false . it returns 'false'.\n",
        "\n",
        "    \n",
        "  * or operator :\n",
        "       * This operator returns 'true' if atleast one of the condition is 'true'.\n",
        "       it only returns 'false' if both condition is 'false'.\n",
        "\n",
        "\n",
        "\n",
        "  * not operator :\n",
        "       * This operator is used to reverse the truth value of condition . if the condition is 'true' , it returns 'false' and if it is 'false' , it returns 'true'.\n",
        "\n",
        "\n",
        "\n",
        "---\n",
        "9. **What is type casting in python?**\n",
        "\n",
        "Ans: Type casting in python is the process of converting one data type into\n",
        "another . This is useful when you need to perform operations that require specific data type or when you want to ensure that a variable holds a value of a certain type .\n",
        "\n",
        "**example**\n",
        "   \n",
        "    num_str=\"10\"\n",
        "    num_int = int(num_ste)\n",
        "    print(num_int)\n",
        "\n",
        "\n",
        "\n",
        "---\n",
        "\n",
        "10. **What is the difference between implicit and explicit type casting?**\n",
        "\n",
        "Ans:The difference between implicit and explicit type casting is:-\n",
        "    \n",
        "* Implicit type casting : Implicit type casting is done automatically by the compiler without any expicit instruction from the programmer.\n",
        "This usually occurs when converting a smaller data type to a lager data type.\n",
        "\n",
        "* Explicit type casting : Explicit type casting requires the programmer to specify the type conversion explicitly.\n",
        "This is used when converting a larger data type to a smaller data ttype , which may lead to data loss.\n",
        "\n",
        "\n",
        "\n",
        "---\n",
        "\n",
        "11. **What is the purpose of conditional statements in python?**\n",
        "\n",
        "Ans: The purpose of conditional statements in python is used to make decisions in a program . They allow the code to execute different blocks of instructions based on certain condition.The main purpose of conditional statements is to control the flow of execution and make programs dynamic and responsive.\n",
        "\n",
        "* purpose of conditional statements:\n",
        "    \n",
        "    1. Decision making- Execute different code based on conditions.\n",
        "    2. Flow control - control how the program runs based on logic.\n",
        "    3. Data validation - Ensure that inputs meet certain criteria.\n",
        "    4. Automation - Implement logic in loops, functions and AI models.\n",
        "\n",
        "**types of conditional statement**\n",
        "\n",
        "1. if statement- Executes a block of code only if a condition is true .\n",
        "2. if-else statment - Provides an alternative block of code if the condition is false.\n",
        "3. elif statement - Checks multiple conditions sequentially.\n",
        "4. Nested if statement - An if statement inside another if statement.\n",
        "\n",
        "\n",
        "\n",
        "---\n",
        "\n",
        "12. **How does the elif statement work?**\n",
        "\n",
        "Ans:The elif (else if) statement in Python is used to check multiple conditions sequentially. It allows you to execute different blocks of code based on which condition is true. If the first condition is false, Python moves to the next elif condition. If none of the conditions are true, the else block (if present) runs as the default action.\n",
        "\n",
        "\n",
        "Syntax of elif Statement:\n",
        "\n",
        "if condition1:\n",
        "    # Executes if condition1 is True\n",
        "elif condition2:\n",
        "    # Executes if condition2 is True (only if condition1 was False)\n",
        "elif condition3:\n",
        "    # Executes if condition3 is True (only if previous conditions were False)\n",
        "else:\n",
        "    # Executes if all conditions are False\n",
        "\n",
        "\n",
        "---\n",
        "\n",
        "13. **What is the difference between for and while loops?**\n",
        "\n",
        "Ans: The difference between for and while loops is:-\n",
        "\n",
        "**For Loop:**\n",
        "A for loop is used when you want to iterate over a sequence (like a list, tuple, or string) or a range of numbers. This loop runs for a specific number of times, which is determined by the length of the sequence or the range.\n",
        "\n",
        "Example:\n",
        "\n",
        "for i in range(5):\n",
        "    \n",
        "print(i)\n",
        "\n",
        "In this example, the for loop will print numbers from 0 to 4. It runs a total of 5 times.\n",
        "\n",
        "**While Loop:**\n",
        "A while loop is used when you want to keep executing a block of code as long as a certain condition is true. This loop will continue until the condition evaluates to false.\n",
        "\n",
        "Example:\n",
        "\n",
        "count = 0\n",
        "while count < 5:\n",
        "    \n",
        "print(count)\n",
        "\n",
        "count += 1\n",
        "\n",
        "In this example, the while loop will continue to run as long as the value of count is less than 5. It also runs a total of 5 times.\n",
        "\n",
        "\n",
        "\n",
        "\n",
        "\n",
        "---\n",
        "\n",
        "14. **Describe a scenario where a while loop is more suitable than a for loop?**\n",
        "\n",
        "Ans: A scenario where a while loop is more suitable than a for loop is when you want to keep processing user input until the user decides to stop.\n",
        "\n",
        "For example, consider a simple program that asks users to enter numbers and calculates their sum. You want the program to keep running until the user types \"exit\". In this case, you don't know in advance how many numbers the user will enter, so a while loop is ideal.\n",
        "\n",
        "Here’s how it could look in Python:\n",
        "\n",
        "\n",
        "\n",
        "    total = 0\n",
        "\n",
        "    while True:\n",
        "    \n",
        "    user_input = input(\"Enter a number (or type 'exit' to stop): \")\n",
        "    \n",
        "    if user_input.lower() == 'exit':\n",
        "        \n",
        "        break\n",
        "    \n",
        "    try:\n",
        "       \n",
        "        number = float(user_input)\n",
        "       \n",
        "        total += number\n",
        "    \n",
        "    except ValueError:\n",
        "    \n",
        "        print(\"Please enter a valid number.\")\n",
        "        print(\"The total sum is:\", total)\n",
        "\n",
        "\n",
        "In this example, the while loop continues to prompt the user for input until they type \"exit\". This makes it flexible and suitable for situations where the number of iterations is not predetermined. If we used a for loop here, we would need to know how many times the user would enter numbers, which is not possible in this scenario.\n",
        "\n",
        "\n",
        "\n",
        "\n",
        "\n",
        "\n",
        "\n",
        "\n",
        "\n",
        "\n",
        "\n",
        "\n",
        "\n",
        "\n",
        "\n",
        "\n",
        "     \n",
        "     "
      ],
      "metadata": {
        "id": "M8n57utwHMCF"
      }
    },
    {
      "cell_type": "code",
      "source": [
        "# 1.Write a pyton to print \"Hello, World!\"?\n",
        "print(\"Hello , World!\")"
      ],
      "metadata": {
        "colab": {
          "base_uri": "https://localhost:8080/"
        },
        "id": "pSHZLJJY1v6q",
        "outputId": "021216b8-6b91-4469-a8b6-77b153d29036"
      },
      "execution_count": null,
      "outputs": [
        {
          "output_type": "stream",
          "name": "stdout",
          "text": [
            "Hello , World!\n"
          ]
        }
      ]
    },
    {
      "cell_type": "code",
      "source": [
        "# 2.Write a python program that display your name and age?\n",
        "name =\"Monika Chauhan \"\n",
        "age= 19\n",
        "print(name)\n",
        "print(age)\n",
        "print(name ,\" \", age)"
      ],
      "metadata": {
        "colab": {
          "base_uri": "https://localhost:8080/"
        },
        "id": "dutOBrbg1v3K",
        "outputId": "e39405fd-6c26-4b53-c889-cc768482740d"
      },
      "execution_count": null,
      "outputs": [
        {
          "output_type": "stream",
          "name": "stdout",
          "text": [
            "Monika Chauhan \n",
            "19\n",
            "Monika Chauhan    19\n"
          ]
        }
      ]
    },
    {
      "cell_type": "code",
      "source": [
        " # 3.Write code to print all the pre-defined keywords in python using the keywords library?\n",
        "help(\"keywords\")"
      ],
      "metadata": {
        "colab": {
          "base_uri": "https://localhost:8080/"
        },
        "id": "t_twy2XI1v0t",
        "outputId": "611b8672-d5b9-4d4e-e533-89a38d93cb89"
      },
      "execution_count": null,
      "outputs": [
        {
          "output_type": "stream",
          "name": "stdout",
          "text": [
            "\n",
            "Here is a list of the Python keywords.  Enter any keyword to get more help.\n",
            "\n",
            "False               class               from                or\n",
            "None                continue            global              pass\n",
            "True                def                 if                  raise\n",
            "and                 del                 import              return\n",
            "as                  elif                in                  try\n",
            "assert              else                is                  while\n",
            "async               except              lambda              with\n",
            "await               finally             nonlocal            yield\n",
            "break               for                 not                 \n",
            "\n"
          ]
        }
      ]
    },
    {
      "cell_type": "code",
      "source": [
        "# 4. Write a program that checks if a given word is a python libaray?\n",
        "import keyword\n",
        "\n",
        "word = input(\"Enter a word: \")\n",
        "\n",
        "if keyword.iskeyword(word):\n",
        "    print(f\"{word} is a Python keyword.\")\n",
        "else:\n",
        "    print(f\"{word} is not a Python keyword.\")\n"
      ],
      "metadata": {
        "id": "km49Exfr1vx0",
        "colab": {
          "base_uri": "https://localhost:8080/"
        },
        "outputId": "c3e0443c-fca5-4047-9108-9d444281db8b"
      },
      "execution_count": null,
      "outputs": [
        {
          "output_type": "stream",
          "name": "stdout",
          "text": [
            "Enter a word: for\n",
            "for is a Python keyword.\n"
          ]
        }
      ]
    },
    {
      "cell_type": "code",
      "source": [
        "\n",
        "# ans:4\n",
        "import keyword\n",
        "\n",
        "word = input(\"Enter a word: \")\n",
        "\n",
        "if keyword.iskeyword(word):\n",
        "    print(f\"{word} is a Python keyword.\")\n",
        "else:\n",
        "    print(f\"{word} is not a Python keyword.\")"
      ],
      "metadata": {
        "id": "rwUQyOf91vvO",
        "colab": {
          "base_uri": "https://localhost:8080/"
        },
        "outputId": "6626c7d7-fb1e-4809-85ad-2691f61ac396"
      },
      "execution_count": null,
      "outputs": [
        {
          "output_type": "stream",
          "name": "stdout",
          "text": [
            "Enter a word: python\n",
            "python is not a Python keyword.\n"
          ]
        }
      ]
    },
    {
      "cell_type": "code",
      "source": [
        "# 5. create a list and tuple in python and demonstrate how attempting to change an element works differently for each?\n",
        "\n",
        "my_list=[1,2,4,5]\n",
        "my_tuple=(1,2,4,5)\n",
        "\n",
        "my_list[2]=3\n",
        "print(\"modify:\", my_list)\n",
        "\n",
        "try:\n",
        "  my_tuple[2]=3\n",
        "except TypeError as e:\n",
        "  print(\"error:\", e)\n",
        "\n",
        "\n"
      ],
      "metadata": {
        "id": "H7mlTcJf1vsX",
        "colab": {
          "base_uri": "https://localhost:8080/"
        },
        "outputId": "09563fcc-8425-4174-be39-5d03355e7b04"
      },
      "execution_count": null,
      "outputs": [
        {
          "output_type": "stream",
          "name": "stdout",
          "text": [
            "modify: [1, 2, 3, 5]\n",
            "error: 'tuple' object does not support item assignment\n"
          ]
        }
      ]
    },
    {
      "cell_type": "code",
      "source": [
        "# 6. Write a function to demonstrate the behavior of mutable and immutable arguments?\n",
        "\n",
        "def modify(immutable, mutable):\n",
        "    immutable+=10\n",
        "    print(\"immutable:\",immutable)\n",
        "    mutable.append(10)\n",
        "    print(\"mutable:\", mutable)\n",
        "\n",
        "num=5\n",
        "\n",
        "number=[3,4,5]\n",
        "\n",
        "modify(num,number)\n",
        "\n",
        "print(\"outside (immutable):\",num)\n",
        "print(\"outside (mutable):\",number)"
      ],
      "metadata": {
        "id": "swGZO1E81vpm",
        "colab": {
          "base_uri": "https://localhost:8080/"
        },
        "outputId": "b167b39c-5069-4fdb-f7fc-bc0c6276b1af"
      },
      "execution_count": null,
      "outputs": [
        {
          "output_type": "stream",
          "name": "stdout",
          "text": [
            "immutable: 15\n",
            "mutable: [3, 4, 5, 10]\n",
            "outside (immutable): 5\n",
            "outside (mutable): [3, 4, 5, 10]\n"
          ]
        }
      ]
    },
    {
      "cell_type": "code",
      "source": [
        "# 7. Write a function to demonstrate the behavior of mutable and immutable arguments?\n",
        "\n",
        "def modify(immutable, mutable):\n",
        "    immutable+=15\n",
        "    print(\"immutable:\",immutable)\n",
        "    mutable.append(10)\n",
        "    print(\"mutable:\", mutable)\n",
        "\n",
        "num=5\n",
        "\n",
        "number=[3,4,5]\n",
        "\n",
        "modify(num,number)\n",
        "\n",
        "print(\"outside (immutable):\",num)\n",
        "print(\"outside (mutable):\",number)"
      ],
      "metadata": {
        "colab": {
          "base_uri": "https://localhost:8080/"
        },
        "id": "7fxYY9XKT89B",
        "outputId": "60ae7946-5556-4e19-fc3c-633319ca1def"
      },
      "execution_count": 2,
      "outputs": [
        {
          "output_type": "stream",
          "name": "stdout",
          "text": [
            "immutable: 20\n",
            "mutable: [3, 4, 5, 10]\n",
            "outside (immutable): 5\n",
            "outside (mutable): [3, 4, 5, 10]\n"
          ]
        }
      ]
    },
    {
      "cell_type": "code",
      "source": [
        "# 8.Write a program to demonstrate  the use of logical operators?\n",
        "\n",
        "a=input(\"enter a number (a):\")\n",
        "b=input(\"enter a number(b):\")\n",
        "\n",
        "if (a<b)and(b>a):\n",
        "  print(\"true\")\n",
        "elif (a>b)or(b<a):\n",
        "  print(\"true\")\n",
        "else:\n",
        "  print(\"false\")"
      ],
      "metadata": {
        "id": "0jmZ91b71vmo",
        "colab": {
          "base_uri": "https://localhost:8080/"
        },
        "outputId": "d4e55ca6-f7ad-463e-b5c5-bf7994926c75"
      },
      "execution_count": null,
      "outputs": [
        {
          "output_type": "stream",
          "name": "stdout",
          "text": [
            "enter a number (a):3\n",
            "enter a number(b):0\n",
            "true\n"
          ]
        }
      ]
    },
    {
      "cell_type": "code",
      "source": [
        "# 9.write a python program to convert user input from string to integer , float , and boolean types?\n",
        "\n",
        "def convert_input(user_input):\n",
        "    try:\n",
        "        int_value = int(user_input)\n",
        "    except ValueError:\n",
        "        int_value = \"Cannot convert to integer\"\n",
        "\n",
        "    try:\n",
        "        float_value = float(user_input)\n",
        "    except ValueError:\n",
        "        float_value = \"Cannot convert to float\"\n",
        "\n",
        "    if user_input.lower() in [\"true\", \"1\", \"yes\"]:\n",
        "        bool_value = True\n",
        "    elif user_input.lower() in [\"false\", \"0\", \"no\"]:\n",
        "        bool_value = False\n",
        "    else:\n",
        "        bool_value = \"Cannot convert to boolean\"\n",
        "\n",
        "    return int_value, float_value, bool_value\n",
        "\n",
        "user_input = input(\"Enter a value: \")\n",
        "int_value, float_value, bool_value = convert_input(user_input)\n",
        "\n",
        "print(f\"Integer: {int_value}\")\n",
        "print(f\"Float: {float_value}\")\n",
        "print(f\"Boolean: {bool_value}\")\n",
        "\n",
        "\n",
        "\n",
        "\n",
        "\n",
        ""
      ],
      "metadata": {
        "id": "ZOPe0S5c1vjy",
        "colab": {
          "base_uri": "https://localhost:8080/"
        },
        "outputId": "d88ee608-50df-444c-d0ab-d512b2f94a9b"
      },
      "execution_count": 10,
      "outputs": [
        {
          "output_type": "stream",
          "name": "stdout",
          "text": [
            "Enter a value: 7\n",
            "Integer: 7\n",
            "Float: 7.0\n",
            "Boolean: Cannot convert to boolean\n"
          ]
        }
      ]
    },
    {
      "cell_type": "code",
      "source": [
        "# 10. write code to demonstrate type casting with list elements?\n",
        "my_list=[\"10\",\"hello\",\"pw\",\"22.4\",\"0\"]\n",
        "\n",
        "int_list=[]\n",
        "float_int=[]\n",
        "string_list=[]\n",
        "\n",
        "for element in my_list:\n",
        "  try:\n",
        "    int_value=int(element)\n",
        "    int_list.append(int_value)\n",
        "  except ValueError:\n",
        "    int_list.append(\"cannot covernt to integer\")\n",
        "\n",
        "\n",
        "  try:\n",
        "    float_value=float(element)\n",
        "    int_list.append(float_value)\n",
        "  except ValueError:\n",
        "    int_list.append(\"cannot covernt to float\")\n",
        "\n",
        "\n",
        "  try:\n",
        "    string_value=str(element)\n",
        "    int_list.append(string_value)\n",
        "  except ValueError:\n",
        "    int_list.append(\"cannot covernt to string\")\n",
        "\n",
        "print(f\"integer list:{int_list}\")\n",
        "print(f\"float list:{float_int}\")\n",
        "print(f\"string list:{string_list}\")\n",
        "\n",
        "\n"
      ],
      "metadata": {
        "id": "c389bGBKF9tl",
        "colab": {
          "base_uri": "https://localhost:8080/"
        },
        "outputId": "9218365c-1f68-40d3-8ac2-522918717992"
      },
      "execution_count": 13,
      "outputs": [
        {
          "output_type": "stream",
          "name": "stdout",
          "text": [
            "integer list:[10, 10.0, '10', 'cannot covernt to integer', 'cannot covernt to float', 'hello', 'cannot covernt to integer', 'cannot covernt to float', 'pw', 'cannot covernt to integer', 22.4, '22.4', 0, 0.0, '0']\n",
            "float list:[]\n",
            "string list:[]\n"
          ]
        }
      ]
    },
    {
      "cell_type": "code",
      "source": [
        "# 11. write a program that checks if a number is positive , negative, or zero?\n",
        "\n",
        "num=int(input(\"enter a number:\"))\n",
        "\n",
        "if num>0:\n",
        "  print(\"positive\")\n",
        "elif num<0:\n",
        "  print(\"negative\")\n",
        "else:\n",
        "  print(\"zero\")\n"
      ],
      "metadata": {
        "id": "HFrTA9cJ1vhC",
        "colab": {
          "base_uri": "https://localhost:8080/"
        },
        "outputId": "dfd6b519-d6b4-4a70-a041-40c6c93b92d2"
      },
      "execution_count": null,
      "outputs": [
        {
          "output_type": "stream",
          "name": "stdout",
          "text": [
            "enter a number:2\n",
            "positive\n"
          ]
        }
      ]
    },
    {
      "cell_type": "code",
      "source": [
        "# 12. write a for loop to print numbers from 1 to 10?\n",
        "\n",
        "for i in range(1,11):\n",
        "   print(i)"
      ],
      "metadata": {
        "id": "2fJhO2pc1vbb",
        "colab": {
          "base_uri": "https://localhost:8080/"
        },
        "outputId": "2e50aae3-d1d8-4d5e-ced8-a96a4cad0340"
      },
      "execution_count": null,
      "outputs": [
        {
          "output_type": "stream",
          "name": "stdout",
          "text": [
            "1\n",
            "2\n",
            "3\n",
            "4\n",
            "5\n",
            "6\n",
            "7\n",
            "8\n",
            "9\n",
            "10\n"
          ]
        }
      ]
    },
    {
      "cell_type": "code",
      "source": [
        "# 13.write a python program to find the sum of all even numbers between 1 and 50?\n",
        "\n",
        "sum=0\n",
        "# start with 2, end with 50,step with 2.\n",
        "for i in range(2,51,2):\n",
        "  sum+=i\n",
        "print(\"the sum of all the even number by 1 to 50 :\",sum)\n"
      ],
      "metadata": {
        "id": "NZbZjwCF1vYm",
        "colab": {
          "base_uri": "https://localhost:8080/"
        },
        "outputId": "0e8d118b-7403-4dcc-8100-48009be82a28"
      },
      "execution_count": null,
      "outputs": [
        {
          "output_type": "stream",
          "name": "stdout",
          "text": [
            "the sum of all the even number by 1 to 50 : 650\n"
          ]
        }
      ]
    },
    {
      "cell_type": "code",
      "source": [
        "# 14. Write a program to reverse a string using a while loop?\n",
        "string=input(\"enter a string:\")\n",
        "\n",
        "reversed_string=\"\"\n",
        "i=len(string)-1\n",
        "\n",
        "while i>=0:\n",
        "  reversed_string+=string[i]\n",
        "  i-=1\n",
        "  print(\"reversed string:\",reversed_string)"
      ],
      "metadata": {
        "id": "LmknrfFN1vVq",
        "colab": {
          "base_uri": "https://localhost:8080/"
        },
        "outputId": "43049778-8bf8-4bf0-82ae-826e4f6d0d34"
      },
      "execution_count": null,
      "outputs": [
        {
          "output_type": "stream",
          "name": "stdout",
          "text": [
            "enter a string:monika\n",
            "reversed string: a\n",
            "reversed string: ak\n",
            "reversed string: aki\n",
            "reversed string: akin\n",
            "reversed string: akino\n",
            "reversed string: akinom\n"
          ]
        }
      ]
    },
    {
      "cell_type": "code",
      "execution_count": null,
      "metadata": {
        "id": "Gn-QEiRPG5cY",
        "colab": {
          "base_uri": "https://localhost:8080/"
        },
        "outputId": "17ac309d-b037-4445-9021-61af319e5089"
      },
      "outputs": [
        {
          "output_type": "stream",
          "name": "stdout",
          "text": [
            "Enter a number6\n",
            "Factorial:6 is 6\n",
            "Factorial:6 is 30\n",
            "Factorial:6 is 120\n",
            "Factorial:6 is 360\n",
            "Factorial:6 is 720\n",
            "Factorial:6 is 720\n"
          ]
        }
      ],
      "source": [
        "# 15. Write a python program to calculate the factorial of a number provided by user using a while loop?\n",
        "\n",
        "num=int(input(\"Enter a number\"))\n",
        "\n",
        "factorial=1\n",
        "\n",
        "i=num\n",
        "\n",
        "while i>0:\n",
        "  factorial*=i\n",
        "  i-=1\n",
        "  print(f\"Factorial:{num} is {factorial}\")"
      ]
    }
  ]
}